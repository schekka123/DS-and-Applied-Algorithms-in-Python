{
 "cells": [
  {
   "cell_type": "markdown",
   "id": "56d6d6c0",
   "metadata": {},
   "source": [
    "### **Problem 1: Expectation-Maximization Algorithm for Clustering**"
   ]
  },
  {
   "cell_type": "markdown",
   "id": "a08edc29",
   "metadata": {},
   "source": [
    "Implement expectation-maximization algorithm for Gaussian mixture models (see the EM algorithm below) in Python and call this program Gk. As you present your code explain your protocol\n",
    "for\n",
    "1. Initializing Gaussian\n",
    "2. Deciding ties\n",
    "3. Stopping criteria"
   ]
  },
  {
   "cell_type": "code",
   "execution_count": 125,
   "id": "f9b04244",
   "metadata": {},
   "outputs": [],
   "source": [
    "import pandas as pd\n",
    "import numpy as np\n",
    "from scipy.stats import multivariate_normal\n",
    "import matplotlib.pyplot as plt\n",
    "import random\n",
    "%matplotlib inline\n",
    "random.seed(30)"
   ]
  },
  {
   "cell_type": "code",
   "execution_count": 126,
   "id": "bfd02926",
   "metadata": {},
   "outputs": [],
   "source": [
    "def initialize(data,clusters):\n",
    "    a,b = data.shape\n",
    "    means = np.zeros((clusters,b),dtype=np.float)\n",
    "    covariances = np.zeros((clusters,b,b),dtype=np.float)\n",
    "    p =  np.asarray(np.repeat(1.0/clusters,clusters),dtype=np.float) \n",
    "    return means,covariances,p"
   ]
  },
  {
   "cell_type": "code",
   "execution_count": 127,
   "id": "1c4faee7",
   "metadata": {},
   "outputs": [],
   "source": [
    "def Estimation_Maximization(data,y,clusters,epsilon,maximum_iteration):\n",
    "    total_iterations = 0\n",
    "    means,covariances,priors = initialize(data,clusters)\n",
    "    for item in range(clusters):\n",
    "        means[item] = data[random.randint(0,len(data))]\n",
    "        covariances[item] = np.identity(data.shape[1])\n",
    "            \n",
    "    accuracies = []\n",
    "    for i in range(maximum_iteration):\n",
    "        init_means = means.copy()\n",
    "        weights = np.zeros((clusters,data.shape[0]),dtype=np.float)\n",
    "\n",
    "        for k in range(clusters):\n",
    "            weights[k] = (multivariate_normal.pdf(data,mean=means[k],cov = covariances[k],allow_singular=True))* priors[k]\n",
    "        t = weights.sum(axis=0)\n",
    "        weights=weights/t\n",
    "        for k in range(clusters):\n",
    "            covariances[k] = np.dot((data-means[k]).T,(data-means[k]) * weights.T[:,k][:,np.newaxis]) / (weights.sum(axis=1)[k])\n",
    "            means[k] = (data*weights.T[:,k][:,np.newaxis]).sum(axis=0)/weights.sum(axis=1)[k]\n",
    "        priors = weights.sum(axis=1)/data.shape[0]\n",
    "        total_value = 0\n",
    "        for j in range(clusters):\n",
    "            total_value = total_value + np.sqrt(np.power((means[j] - init_means[j]),2).sum())\n",
    "        total_value = round(total_value,4)\n",
    "        print(total_value)\n",
    "        \n",
    "            \n",
    "        for k in range(clusters):\n",
    "            weights[k] = (multivariate_normal.pdf(data,mean=means[k],cov = covariances[k],allow_singular=True))* priors[k]\n",
    "        weights=weights/weights.sum(axis=0)\n",
    "\n",
    "\n",
    "        algo_predictions =  np.argmax(weights,axis=0)\n",
    "\n",
    "        ground_truth_unique_clusters = np.unique(y)\n",
    "        means_gt = []\n",
    "        for k in range(len(ground_truth_unique_clusters)):\n",
    "            means_gt.append(data[np.where(y==ground_truth_unique_clusters[k])].mean(axis=0))\n",
    "\n",
    "\n",
    "        preducted_unique_clusters = np.unique(algo_predictions)\n",
    "        means_preds = []\n",
    "        for k in range(len(preducted_unique_clusters)):\n",
    "            means_preds.append(data[np.where(algo_predictions==preducted_unique_clusters[k])].mean(axis=0))\n",
    "\n",
    "\n",
    "        output = []\n",
    "        for i,m in enumerate(means_preds):\n",
    "            compare = []\n",
    "            for j,mm in enumerate(means_gt):\n",
    "                magnitude = np.sqrt(sum(x**2 for x in (m - mm)))\n",
    "                compare.append(magnitude)\n",
    "            output.append(ground_truth_unique_clusters[np.argmin(compare)])\n",
    "        o_pred = []\n",
    "        for i in range(len(algo_predictions)):\n",
    "            o_pred.append(output[np.argwhere(preducted_unique_clusters == algo_predictions[i])[0][0]])\n",
    "        accuracy = float(np.sum(y == o_pred)) / len(algo_predictions)\n",
    "        accuracies.append(accuracy)\n",
    "        \n",
    "        if total_value<=epsilon:\n",
    "            break\n",
    "        if total_iterations>0:\n",
    "            if accuracies[-2] == accuracy:\n",
    "                break\n",
    "    \n",
    "        total_iterations+=1\n",
    "    return total_iterations,[1-x for x in accuracies]"
   ]
  },
  {
   "cell_type": "markdown",
   "id": "0b13452d",
   "metadata": {},
   "source": [
    "##### 1. Initializing Gaussian\n",
    "\n",
    "- Initialized the means with a random datapoint from the dataset \n",
    "- Initialized the covariance matrix as an identity matrix \n",
    "- Initialized the weights matrix with zeros\n",
    "- Uniform probabilities are used to initialize the priors.\n",
    "\n",
    "#### 2. Deciding Ties\n",
    "\n",
    "- To allocate clusters to the datapoints, I use np.argmax. In the event of a tie, the argmax function will return the index of the cluster with the lowest I i.e. the first cluster between the tied clusters.\n",
    "\n",
    "#### 3.Stopping Criteria\n",
    "\n",
    "- When the cluster centroids do not appear to change, a variable called epsilon is used to stop the program from running. Tolerance values in the range of 0.01,0.001 are used."
   ]
  },
  {
   "cell_type": "markdown",
   "id": "414e8d13",
   "metadata": {},
   "source": [
    "### **Problem 2: Analysis of the EM over Real-world Data Sets**"
   ]
  },
  {
   "cell_type": "code",
   "execution_count": 128,
   "id": "05ed7b69",
   "metadata": {},
   "outputs": [],
   "source": [
    "import pandas as pd\n",
    "import numpy as np\n",
    "from scipy.stats import multivariate_normal\n",
    "import matplotlib.pyplot as plt\n",
    "import warnings as warnings"
   ]
  },
  {
   "cell_type": "code",
   "execution_count": 129,
   "id": "cdb28a7f",
   "metadata": {},
   "outputs": [],
   "source": [
    "def initialize(data,clusters):\n",
    "    a,b = data.shape\n",
    "    means = np.zeros((clusters,b),dtype=np.float)\n",
    "    covariances = np.zeros((clusters,b,b),dtype=np.float)\n",
    "    p =  np.asarray(np.repeat(1.0/clusters,clusters),dtype=np.float) \n",
    "    return means,covariances,p"
   ]
  },
  {
   "cell_type": "code",
   "execution_count": 130,
   "id": "b150c504",
   "metadata": {},
   "outputs": [],
   "source": [
    "def Estimation_Maximization(data,y,clusters,epsilon,maximum_iteration):\n",
    "    total_iterations = 0\n",
    "    means,covariances,priors = initialize(data,clusters)\n",
    "    for item in range(clusters):\n",
    "        \n",
    "        means[item] =data[random.randint(0,len(data)-1)]\n",
    "        \n",
    "        covariances[item] = np.identity(data.shape[1])\n",
    "        \n",
    "    accuracies = []\n",
    "    for i in range(maximum_iteration):\n",
    "        init_means = means.copy()\n",
    "        weights = np.zeros((clusters,data.shape[0]),dtype=np.float)\n",
    "\n",
    "        for k in range(clusters):\n",
    "            weights[k] = (multivariate_normal.pdf(data,mean=means[k],cov = covariances[k],allow_singular=True))* priors[k]\n",
    "        t = weights.sum(axis=0)\n",
    "        weights=weights/t\n",
    "        for k in range(clusters):\n",
    "            covariances[k] = np.dot((data-means[k]).T,(data-means[k]) * weights.T[:,k][:,np.newaxis]) / (weights.sum(axis=1)[k])\n",
    "            means[k] = (data*weights.T[:,k][:,np.newaxis]).sum(axis=0)/weights.sum(axis=1)[k]\n",
    "        priors = weights.sum(axis=1)/data.shape[0]\n",
    "        total_value = 0\n",
    "        for j in range(clusters):\n",
    "            total_value = total_value + np.sqrt(np.power((means[j] - init_means[j]),2).sum())\n",
    "        total_value = round(total_value,4)\n",
    "        \n",
    "            \n",
    "        for k in range(clusters):\n",
    "            weights[k] = (multivariate_normal.pdf(data,mean=means[k],cov = covariances[k],allow_singular=True))* priors[k]\n",
    "        weights=weights/weights.sum(axis=0)\n",
    "\n",
    "\n",
    "        algo_predictions =  np.argmax(weights,axis=0)\n",
    "\n",
    "        ground_truth_unique_clusters = np.unique(y)\n",
    "        means_gt = []\n",
    "        for k in range(len(ground_truth_unique_clusters)):\n",
    "            means_gt.append(data[np.where(y==ground_truth_unique_clusters[k])].mean(axis=0))\n",
    "\n",
    "\n",
    "        preducted_unique_clusters = np.unique(algo_predictions)\n",
    "        means_preds = []\n",
    "        for k in range(len(preducted_unique_clusters)):\n",
    "            means_preds.append(data[np.where(algo_predictions==preducted_unique_clusters[k])].mean(axis=0))\n",
    "\n",
    "        output = []\n",
    "        for i,m in enumerate(means_preds):\n",
    "            compare = []\n",
    "            for j,mm in enumerate(means_gt):\n",
    "                magnitude = np.sqrt(sum(x**2 for x in (m - mm)))\n",
    "                compare.append(magnitude)\n",
    "            output.append(ground_truth_unique_clusters[np.argmin(compare)])\n",
    "        prediction = []\n",
    "        for i in range(len(algo_predictions)):\n",
    "            prediction.append(output[np.argwhere(preducted_unique_clusters == algo_predictions[i])[0][0]])\n",
    "        accuracy = float(np.sum(y == prediction)) / len(algo_predictions)\n",
    "        accuracies.append(accuracy)\n",
    "        \n",
    "        if total_value<=epsilon:\n",
    "            break\n",
    "        if total_iterations>0:\n",
    "            if accuracies[-2] == accuracy:\n",
    "                break\n",
    "    \n",
    "        total_iterations+=1\n",
    "    return total_iterations,[1-x for x in accuracies],accuracy"
   ]
  },
  {
   "cell_type": "code",
   "execution_count": 131,
   "id": "2087224a",
   "metadata": {},
   "outputs": [],
   "source": [
    "dataset = pd.read_csv(\"Downloads/ionosphere.data\",header=None)"
   ]
  },
  {
   "cell_type": "code",
   "execution_count": 144,
   "id": "9c1d6368",
   "metadata": {},
   "outputs": [
    {
     "name": "stdout",
     "output_type": "stream",
     "text": [
      "final accuracy at the end of iteration 1 is 0.6410256410256411\n",
      "errors per iteration [0.3589743589743589, 0.3589743589743589]\n",
      "iterations 1\n",
      "final accuracy at the end of iteration 6 is 0.9173789173789174\n",
      "errors per iteration [0.20512820512820518, 0.10541310541310545, 0.07977207977207978, 0.07407407407407407, 0.07122507122507127, 0.08262108262108259, 0.08262108262108259]\n",
      "iterations 6\n",
      "final accuracy at the end of iteration 7 is 0.811965811965812\n",
      "errors per iteration [0.27920227920227925, 0.2592592592592593, 0.24786324786324787, 0.23361823361823364, 0.20227920227920226, 0.19088319088319083, 0.18803418803418803, 0.18803418803418803]\n",
      "iterations 7\n",
      "final accuracy at the end of iteration 8 is 0.8575498575498576\n",
      "errors per iteration [0.3105413105413105, 0.20227920227920226, 0.16524216524216528, 0.15954415954415957, 0.14814814814814814, 0.14529914529914534, 0.13960113960113962, 0.14245014245014243, 0.14245014245014243]\n",
      "iterations 8\n"
     ]
    }
   ],
   "source": [
    "X = dataset.iloc[:,:-1].values\n",
    "y = dataset.iloc[:,-1].values\n",
    "\n",
    "\n",
    "n_cluster = [1,2,3,4]\n",
    "maximum_iteration = 20\n",
    "epsilon = 0.001\n",
    "error = []\n",
    "iterations = []\n",
    "warnings.filterwarnings(\"ignore\")\n",
    "\n",
    "for item in n_cluster:\n",
    "    te,err,acc = Estimation_Maximization(X,y,item,epsilon,maximum_iteration)\n",
    "    print(f\"final accuracy at the end of iteration {te} is {acc}\")\n",
    "    \n",
    "    print(\"errors per iteration\",err)\n",
    "    print(\"iterations\",te)\n",
    "    error.append(err)\n",
    "    iterations.append(te)"
   ]
  },
  {
   "cell_type": "markdown",
   "id": "cf3fc7fc",
   "metadata": {},
   "source": [
    "**plot 1 <br>**\n",
    "x-axis: number of clusters (k) <br>\n",
    "y-axis: error rate"
   ]
  },
  {
   "cell_type": "code",
   "execution_count": 145,
   "id": "704413b0",
   "metadata": {},
   "outputs": [
    {
     "data": {
      "text/plain": [
       "[Text(0, 1, '1'), Text(0, 2, '2'), Text(0, 3, '3'), Text(0, 4, '4')]"
      ]
     },
     "execution_count": 145,
     "metadata": {},
     "output_type": "execute_result"
    },
    {
     "data": {
      "image/png": "[encoded data removed]",
      "text/plain": [
       "<Figure size 432x288 with 1 Axes>"
      ]
     },
     "metadata": {
      "needs_background": "light"
     },
     "output_type": "display_data"
    }
   ],
   "source": [
    "fig, a = plt.subplots(1,1) \n",
    "a.boxplot(error,vert=0)\n",
    "\n",
    "a.set_title(\"Ionosphere plot\")\n",
    "a.set_ylabel(\"number of clusters\")\n",
    "a.set_xlabel(\"error\")\n",
    "a.set_yticklabels([\"1\",\"2\",\"3\",\"4\"])\n",
    "\n"
   ]
  },
  {
   "cell_type": "markdown",
   "id": "cc475a41",
   "metadata": {},
   "source": [
    "**plot 2 <br>**\n",
    "x-axis: number of clusters (k)<br>\n",
    "y-axis: number of iterations until convergence"
   ]
  },
  {
   "cell_type": "code",
   "execution_count": 146,
   "id": "eeb157e8",
   "metadata": {},
   "outputs": [
    {
     "data": {
      "text/plain": [
       "[4, 7, 4, 7]"
      ]
     },
     "execution_count": 146,
     "metadata": {},
     "output_type": "execute_result"
    }
   ],
   "source": [
    "total_iterations"
   ]
  },
  {
   "cell_type": "code",
   "execution_count": 147,
   "id": "ece47f4f",
   "metadata": {},
   "outputs": [
    {
     "data": {
      "text/plain": [
       "[Text(0, 1, '1'), Text(0, 2, '2'), Text(0, 3, '3'), Text(0, 4, '4')]"
      ]
     },
     "execution_count": 147,
     "metadata": {},
     "output_type": "execute_result"
    },
    {
     "data": {
      "image/png": "[encoded data removed]",
      "text/plain": [
       "<Figure size 432x288 with 1 Axes>"
      ]
     },
     "metadata": {
      "needs_background": "light"
     },
     "output_type": "display_data"
    }
   ],
   "source": [
    "fig, a = plt.subplots(1,1) \n",
    "a.boxplot([np.arange(item+1)[1:] for item in total_iterations],vert=0)\n",
    "\n",
    "a.set_title(\"Ionosphere plot\")\n",
    "a.set_ylabel(\"number of clusters\")\n",
    "a.set_xlabel(\"iterations until convergence\")\n",
    "a.set_yticklabels([\"1\",\"2\",\"3\",\"4\"])\n"
   ]
  },
  {
   "cell_type": "code",
   "execution_count": 148,
   "id": "a561d15d",
   "metadata": {},
   "outputs": [],
   "source": [
    "ringnorm_data = pd.read_csv(\"Downloads/ringnorm.csv\")"
   ]
  },
  {
   "cell_type": "code",
   "execution_count": 149,
   "id": "57817dbb",
   "metadata": {},
   "outputs": [],
   "source": [
    "from sklearn.preprocessing import StandardScaler"
   ]
  },
  {
   "cell_type": "code",
   "execution_count": 150,
   "id": "458f2e32",
   "metadata": {},
   "outputs": [
    {
     "name": "stdout",
     "output_type": "stream",
     "text": [
      "final accuracy at the end of iteration 1 is 0.5048648648648648\n",
      "errors per iteration [0.4951351351351352, 0.4951351351351352]\n",
      "iterations 1\n",
      "final accuracy at the end of iteration 10 is 0.9790540540540541\n",
      "errors per iteration [0.46432432432432436, 0.4077027027027027, 0.3036486486486486, 0.1745945945945946, 0.07337837837837835, 0.032432432432432434, 0.02310810810810815, 0.02189189189189189, 0.021216216216216166, 0.0209459459459459, 0.0209459459459459]\n",
      "iterations 10\n",
      "final accuracy at the end of iteration 9 is 0.9785135135135136\n",
      "errors per iteration [0.3340540540540541, 0.14918918918918922, 0.05486486486486486, 0.026756756756756706, 0.022162162162162158, 0.02202702702702708, 0.021351351351351355, 0.021216216216216166, 0.021486486486486434, 0.021486486486486434]\n",
      "iterations 9\n",
      "final accuracy at the end of iteration 7 is 0.9787837837837838\n",
      "errors per iteration [0.3087837837837838, 0.14756756756756761, 0.05081081081081085, 0.025540540540540557, 0.022162162162162158, 0.021621621621621623, 0.021216216216216166, 0.021216216216216166]\n",
      "iterations 7\n"
     ]
    }
   ],
   "source": [
    "X = ringnorm_data.iloc[:,:-1].values\n",
    "y = ringnorm_data.iloc[:,-1].values\n",
    "\n",
    "scaled = StandardScaler().fit_transform(X)\n",
    "n_cluster = [1,2,3,4]\n",
    "maximum_iteration = 20\n",
    "epsilon = 0.001\n",
    "error = []\n",
    "iterations = []\n",
    "\n",
    "for item in n_cluster:\n",
    "    te,err,acc= Estimation_Maximization(scaled,y,item,epsilon,maximum_iteration)\n",
    "    print(f\"final accuracy at the end of iteration {te} is {acc}\")\n",
    "    print(\"errors per iteration\",err)\n",
    "    \n",
    "    print(\"iterations\",te)\n",
    "    error.append(err)\n",
    "    iterations.append(te)"
   ]
  },
  {
   "cell_type": "markdown",
   "id": "9733088f",
   "metadata": {},
   "source": [
    "**plot 1 <br>**\n",
    "x-axis: number of clusters (k) <br>\n",
    "y-axis: error rate"
   ]
  },
  {
   "cell_type": "code",
   "execution_count": 151,
   "id": "cbb7caaf",
   "metadata": {},
   "outputs": [
    {
     "data": {
      "text/plain": [
       "[Text(0, 1, '1'), Text(0, 2, '2'), Text(0, 3, '3'), Text(0, 4, '4')]"
      ]
     },
     "execution_count": 151,
     "metadata": {},
     "output_type": "execute_result"
    },
    {
     "data": {
      "image/png": "[encoded data removed]",
      "text/plain": [
       "<Figure size 432x288 with 1 Axes>"
      ]
     },
     "metadata": {
      "needs_background": "light"
     },
     "output_type": "display_data"
    }
   ],
   "source": [
    "fig, a = plt.subplots(1,1) \n",
    "a.boxplot(error,vert=0)\n",
    "\n",
    "a.set_title(\"Ringnorm plot\")\n",
    "a.set_ylabel(\"number of clusters\")\n",
    "a.set_xlabel(\"error\")\n",
    "a.set_yticklabels([\"1\",\"2\",\"3\",\"4\"])\n",
    "\n"
   ]
  },
  {
   "cell_type": "markdown",
   "id": "6e12c51f",
   "metadata": {},
   "source": [
    "**plot 2 <br>**\n",
    "x-axis: number of clusters (k)<br>\n",
    "y-axis: number of iterations until convergence"
   ]
  },
  {
   "cell_type": "code",
   "execution_count": 152,
   "id": "3d88b893",
   "metadata": {},
   "outputs": [
    {
     "data": {
      "text/plain": [
       "[Text(0, 1, '1'), Text(0, 2, '2'), Text(0, 3, '3'), Text(0, 4, '4')]"
      ]
     },
     "execution_count": 152,
     "metadata": {},
     "output_type": "execute_result"
    },
    {
     "data": {
      "image/png": "[encoded data removed]",
      "text/plain": [
       "<Figure size 432x288 with 1 Axes>"
      ]
     },
     "metadata": {
      "needs_background": "light"
     },
     "output_type": "display_data"
    }
   ],
   "source": [
    "fig, a = plt.subplots(1,1) \n",
    "a.boxplot([np.arange(item+1)[1:] for item in total_iterations],vert=0)\n",
    "\n",
    "a.set_title(\"Ringnorm plot\")\n",
    "a.set_ylabel(\"number of clusters\")\n",
    "a.set_xlabel(\"iterations until convergence\")\n",
    "a.set_yticklabels([\"1\",\"2\",\"3\",\"4\"])\n"
   ]
  },
  {
   "cell_type": "markdown",
   "id": "b8329142",
   "metadata": {},
   "source": [
    "## Problem 3.1: \n",
    "\n",
    "Given a text D and a pattern P, describe an Ω(d+p) time method for finding the longest prefix\n",
    "of P that is a substring of D. The lengths of D and P are d and p, respectively."
   ]
  },
  {
   "cell_type": "code",
   "execution_count": 153,
   "id": "f04e0abb",
   "metadata": {},
   "outputs": [
    {
     "name": "stdout",
     "output_type": "stream",
     "text": [
      "Length of longest prefix is 4\n",
      "Longest prefix is abab\n"
     ]
    }
   ],
   "source": [
    "def compute_kmp_fail(P):\n",
    "    m = len(P)\n",
    "    fail = [0] * m\n",
    "    j = 1\n",
    "    k = 0\n",
    "    while j < m:\n",
    "        if P[j] == P[k]:\n",
    "            fail[j] = k+1\n",
    "            j += 1\n",
    "            k += 1\n",
    "        elif k > 0:\n",
    "            k = fail[k-1]\n",
    "        else:\n",
    "            j += 1\n",
    "    return fail\n",
    "\n",
    "\n",
    "\n",
    "\n",
    "def find_kmp(T, P):\n",
    "    n, m = len(T), len(P)\n",
    "    if m == 0:\n",
    "        return 0\n",
    "    fail = compute_kmp_fail(P)\n",
    "    j = 0\n",
    "    k = 0\n",
    "    max_length = 0\n",
    "    while j < n:\n",
    "        if T[j] == P[k]:\n",
    "            if k == m-1:\n",
    "                max_length = max(k+1,max_length)\n",
    "                return max_length\n",
    "            j += 1\n",
    "            k += 1\n",
    "            max_length=max(k,max_length)\n",
    "        elif k > 0:\n",
    "            k = 0\n",
    "        else:\n",
    "            j += 1\n",
    "    return max_length\n",
    "\n",
    "D = 'abacabababab ababc'\n",
    "P = 'abab'\n",
    "\n",
    "output = find_kmp(D,P)\n",
    "print(\"Length of longest prefix is {0}\" .format(output,P[:output]))\n",
    "print(\"Longest prefix is {1}\" .format(output,P[:output]))"
   ]
  },
  {
   "cell_type": "markdown",
   "id": "ba09f8b1",
   "metadata": {},
   "source": [
    "## Problem 3.2: \n",
    "\n",
    "X, Y, and Z are three arrays and each has m elements. For an arbitrary integer t, describe\n",
    "O(m2logm)-time algorithm to determine if there exist numbers, x in X, y in Y, and z in Z, such\n",
    "that t = x+y+z.\n"
   ]
  },
  {
   "cell_type": "code",
   "execution_count": 154,
   "id": "aa514c41",
   "metadata": {},
   "outputs": [
    {
     "data": {
      "text/plain": [
       "True"
      ]
     },
     "execution_count": 154,
     "metadata": {},
     "output_type": "execute_result"
    }
   ],
   "source": [
    "def binary_search(arr,output,start,end):\n",
    "    if start>end:\n",
    "        return False\n",
    "    else:\n",
    "        mid = (start + end)//2\n",
    "    if output==arr[mid]:\n",
    "        return True\n",
    "    elif output<arr[mid]:\n",
    "        return binary_search(arr,output,start,mid-1)\n",
    "    else:\n",
    "        return binary_search(arr,output,mid+1,end)\n",
    "\n",
    "def triplet(t,X,Y,Z):\n",
    "    Z.sort()\n",
    "    for item in range(len(X)):\n",
    "        for item1 in range(len(Y)):\n",
    "            output = t - X[item] -Y[item1]\n",
    "            if binary_search(Z,output,0,len(Z)-1):\n",
    "                return True\n",
    "    return False\n",
    "\n",
    "\n",
    "x, y, z = [1,2,3,4,5,6], [11,22,33,44,55,66], [45,32,12,23,54,15]\n",
    "triplet(94,x,y,z)"
   ]
  },
  {
   "cell_type": "markdown",
   "id": "61bcb5de",
   "metadata": {},
   "source": [
    "## Explanation:\n",
    "The purpose of this task is to create an algorithm that will detect if there are any values, x in X, y in Y, and z in Z, where t = x+y+z. Each of the three arrays, X, Y, and Z, has the same items. The sort method in Python is used to sort the third array Z. Then, using a for loop, iterate over the elements of the first array X. To iterate along Z's elements, a second for loop is utilized inside the first for loop. Answer = t - element of X - element of Y is an example of a variable t. The variable response is now examined in array 3 Z to determine if it exists. The binary search tree is used for this search. \n",
    "\n",
    "<b>Binary search tree</b>:\n",
    "The middle index is computed first.\n",
    "Check to see if the center element is the one that needs to be found. Return True if the answer is yes.\n",
    "Else, Repeat binary search with start index 0 and final index mid-1 if element is less than middle element.\n",
    "Else, Repeat binary search with start index mid+1 and final index length of array if element is greater than middle element.\n",
    "Continue in this manner until the array is depleted. Start index > last index, for example. Return False if the element isn't found.\n",
    "\n",
    "<b> Time Complexity </b>:\n",
    "1. Sort array- 0(mlogm)\n",
    "2. For loop take O(m) time\n",
    "3. Another for loop also take O(m) time.\n",
    "4. Binary search takes O(logm) time\n",
    "\n",
    "Result = O(m*m*logm) + O(mlogm) = O(m^2logm) + O(mlogm)\n",
    "Time complexity = O(m^2logm)"
   ]
  },
  {
   "cell_type": "markdown",
   "id": "645ff46b",
   "metadata": {},
   "source": [
    "## Problem 3.3:\n",
    "\n",
    "Describe an efficient algorithm for deleting a string from a compressed trie and analyze its running time."
   ]
  },
  {
   "cell_type": "markdown",
   "id": "09608b4c",
   "metadata": {},
   "source": [
    "# Algorithm : \n",
    "```\n",
    "str: string to be deleted\n",
    "\n",
    "function <- deletestring(compressed trie, str)\n",
    "{\n",
    "    if str not in compressed trie then\n",
    "        return False\n",
    "    else then \n",
    "    {\n",
    "        Node <- node containing the string to be erased\n",
    "        if Node has child nodes or string to be erased isn't full string present at Node then\n",
    "        {\n",
    "            return False #internal node can't be deleted\n",
    "        }\n",
    "        delete Node\n",
    "        parent <- parent of Node\n",
    "        if parent has child ch then\n",
    "        {\n",
    "            parent.str = parent.str + ch.str. # merge two nodes\n",
    "            delete node ch #We can remove nodes after merging.\n",
    "        }\n",
    "        return True #deleted successfully\n",
    "    }\n",
    "}\n",
    "            \n",
    "        \n",
    "```\n",
    "## Explanation :\n",
    "A delete string function is developed, which takes as input compressed trie and the string to be removed.\n",
    "\n",
    "First, we determine if the string to be removed exists in the compressed trie; if it does not, false is returned.\n",
    "\n",
    "If that's the case, we'll look for a node that has a string.\n",
    "\n",
    "We determine if node N has a child or whether the text to be removed is complete.\n",
    "\n",
    "If the above mentioned condition is true, we can't remove an internal node, hence a false is returned.\n",
    "\n",
    "If the condition is false, we remove node N, then combine nodes to meet the compressed trie requirement, then delete child nodes."
   ]
  }
 ],
 "metadata": {
  "kernelspec": {
   "display_name": "Python 3",
   "language": "python",
   "name": "python3"
  },
  "language_info": {
   "codemirror_mode": {
    "name": "ipython",
    "version": 3
   },
   "file_extension": ".py",
   "mimetype": "text/x-python",
   "name": "python",
   "nbconvert_exporter": "python",
   "pygments_lexer": "ipython3",
   "version": "3.8.8"
  }
 },
 "nbformat": 4,
 "nbformat_minor": 5
}

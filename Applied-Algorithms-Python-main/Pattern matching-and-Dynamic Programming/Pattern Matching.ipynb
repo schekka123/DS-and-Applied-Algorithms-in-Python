{
 "cells": [
  {
   "cell_type": "code",
   "execution_count": 17,
   "id": "589712d8",
   "metadata": {},
   "outputs": [],
   "source": [
    "import time\n",
    "import matplotlib.pyplot as plt\n",
    "import random\n",
    "import math\n",
    "import timeit\n",
    "import string"
   ]
  },
  {
   "cell_type": "markdown",
   "id": "633596c9",
   "metadata": {},
   "source": [
    "1.1: The brute-force pattern-matching algorithm"
   ]
  },
  {
   "cell_type": "markdown",
   "id": "31752495",
   "metadata": {},
   "source": [
    "Pattern substring should be at the end of text such that the Brute Force Pattern Matching could take omega(dp) time.\n",
    "Algorithm will make *p* comparisons for *d-p+1* times, if the pattern substring of length *p* is at the end of the text *D* of length *d*, such that the time complexity would be O(dp)\n",
    "\n",
    "Let, the Length of D is d and the Length of P is p.\n",
    "\n",
    "Number of comparisons is  p*(d-p+1) and the time complexity is O(dp)"
   ]
  },
  {
   "cell_type": "code",
   "execution_count": 26,
   "id": "b3c6f395",
   "metadata": {},
   "outputs": [],
   "source": [
    "# Brute force\n",
    "def find_brute(T, P):\n",
    "    n, m = len(T), len(P)\n",
    "    # every starting position\n",
    "    for i in range(n-m+1):\n",
    "        k = 0\n",
    "        # conduct O(k) comparisons\n",
    "        while k < m and T[i+k] == P[k]:\n",
    "            k += 1\n",
    "        if k == m:\n",
    "            return i\n",
    "    return -1"
   ]
  },
  {
   "cell_type": "code",
   "execution_count": 34,
   "id": "2a33ca15",
   "metadata": {},
   "outputs": [
    {
     "name": "stdout",
     "output_type": "stream",
     "text": [
      "substring starting point  13\n",
      "Brute force takes upto 0.000177seconds to run and returns 13\n",
      "substring starts at  17\n",
      "Brute force takes upto 0.000101seconds to run and returns 17\n"
     ]
    }
   ],
   "source": [
    "D = \"BBBBBBBBBBBBBBBBBBBBD\"\n",
    "P = \"BBBBBBBD\"\n",
    "\n",
    "print(\"substring starting point \",find_brute(D,P))\n",
    "start_time = time.time()\n",
    "index = find_brute(D, P)\n",
    "end_time = time.time()\n",
    "print(\"Brute force takes upto {:f}seconds to run and returns {:d}\".format(end_time-start_time, index))\n",
    "\n",
    "\n",
    "D = \"ABCDEFGHIJKLEMNOPQ\"\n",
    "P = \"Q\"\n",
    "\n",
    "print(\"substring starts at \",find_brute(D,P))\n",
    "start_time = time.time()\n",
    "index = find_brute(D, P)\n",
    "end_time = time.time()\n",
    "print(\"Brute force takes upto {:f}seconds to run and returns {:d}\".format(end_time-start_time, index))"
   ]
  },
  {
   "cell_type": "markdown",
   "id": "f3b8510e",
   "metadata": {},
   "source": [
    "1.2: Python’s str class and pattern-matching"
   ]
  },
  {
   "cell_type": "code",
   "execution_count": 27,
   "id": "7071f1dd",
   "metadata": {},
   "outputs": [
    {
     "name": "stdout",
     "output_type": "stream",
     "text": [
      "Occurence of' string ' in text - ' This is a test string, counting substring string and string a This counting ' with Brute Force 4\n",
      "Occurence of' counting ' in text - ' This is a test string, counting substring string and string a This counting '  with Brute Force 2\n",
      "Occurence of' rtr ' in text - ' srtrtrtsrt '  with Brute Force 1\n",
      "Occurence of' aba ' in text - ' abababa ' with Brute Force 2\n"
     ]
    }
   ],
   "source": [
    "# Brute force\n",
    "def find_brute_pattern(T, P):\n",
    "    n, m = len(T), len(P)\n",
    "    c = 0\n",
    "    # every starting position\n",
    "    # for i in range(n-m+1):\n",
    "    i = 0\n",
    "    while i<(n-m+1):\n",
    "        k = 0\n",
    "        # conduct O(k) comparisons\n",
    "        while k < m and T[i+k] == P[k]:\n",
    "            k += 1\n",
    "        if k == m:\n",
    "            c+=1\n",
    "            i+=m\n",
    "        else:\n",
    "            i+=1\n",
    "    return c\n",
    "\n",
    "Sample = \"This is a test string, counting substring string and string a This counting\"\n",
    "Sample1 = \"srtrtrtsrt\"\n",
    "Sample3 = \"abababa\"\n",
    "Pattern1 = \"string\"\n",
    "Pattern2 = \"counting\"\n",
    "Pattern3 = \"rtr\"\n",
    "Pattern4 = \"aba\"\n",
    "\n",
    "print(f\"Occurence of' {Pattern1} ' in text - ' {Sample} ' with Brute Force {find_brute_pattern(Sample,Pattern1)}\")\n",
    "print(f\"Occurence of' {Pattern2} ' in text - ' {Sample} '  with Brute Force {find_brute_pattern(Sample,Pattern2)}\")\n",
    "print(f\"Occurence of' {Pattern3} ' in text - ' {Sample1} '  with Brute Force {find_brute_pattern(Sample1,Pattern3)}\")\n",
    "\n",
    "print(f\"Occurence of' {Pattern4} ' in text - ' {Sample3} ' with Brute Force {find_brute_pattern(Sample3,Pattern4)}\")"
   ]
  },
  {
   "cell_type": "code",
   "execution_count": 28,
   "id": "d7ede67a",
   "metadata": {},
   "outputs": [],
   "source": [
    "#Boyer_more\n",
    "def find_boyer_more(T, P):\n",
    "    \n",
    "    n, m = len(T), len(P)\n",
    "    match = []\n",
    "    \n",
    "    if m == 0:\n",
    "        return 0\n",
    "    last = {}\n",
    "    \n",
    "    for k in range(m):\n",
    "        last[P[k]] = k\n",
    "        \n",
    "    i = m - 1\n",
    "    k = m - 1\n",
    "    while i < n:\n",
    "        \n",
    "        if T[i] == P[k]:\n",
    "            if k == 0:\n",
    "                match.append(T[i:i+m])\n",
    "                i = i + (m - 1) * 2\n",
    "                k = m - 1\n",
    "            else:\n",
    "                i -= 1\n",
    "                k -= 1\n",
    "        else:\n",
    "            j = last.get(T[i], -1)\n",
    "            i += m - min(k, j+1)\n",
    "            k = m - 1\n",
    "    if match:\n",
    "        return match\n",
    "    return -1"
   ]
  },
  {
   "cell_type": "code",
   "execution_count": 29,
   "id": "9b1bf781",
   "metadata": {},
   "outputs": [
    {
     "name": "stdout",
     "output_type": "stream",
     "text": [
      "['abab', 'abab', 'abab', 'abab', 'abab', 'abab']\n"
     ]
    }
   ],
   "source": [
    "T = \"ababababadcdacaababadcaababajfd;lasjdfababakd;fj;abab\"\n",
    "P = \"abab\"\n",
    "\n",
    "print(find_boyer_more(T, P))"
   ]
  },
  {
   "cell_type": "code",
   "execution_count": 30,
   "id": "f47c6df6",
   "metadata": {},
   "outputs": [],
   "source": [
    "#kmp\n",
    "# KMP failure function\n",
    "def compute_kmp_fail(P):\n",
    "    m = len(P)\n",
    "    fail = [0] * m\n",
    "    j = 1\n",
    "    k = 0\n",
    "    while j < m:\n",
    "        if P[j] == P[k]:\n",
    "            fail[j] = k+1\n",
    "            j += 1\n",
    "            k += 1\n",
    "        elif k > 0:\n",
    "            k = fail[k-1]\n",
    "        else: \n",
    "            j += 1\n",
    "    return fail"
   ]
  },
  {
   "cell_type": "code",
   "execution_count": 31,
   "id": "9fa67654",
   "metadata": {},
   "outputs": [
    {
     "name": "stdout",
     "output_type": "stream",
     "text": [
      "Occurence of ' string ' in text - ' This is a test string, counting substring string and string a This counting ' with kmp 4\n",
      "Occurence of ' counting ' in text - ' This is a test string, counting substring string and string a This counting ' with kmp 2\n",
      "Occurence of ' rtr ' in text - ' srtrtrtsrt '  with kmp 1\n",
      "Occurence of ' aba ' in text - ' abababa '  with kmp 2\n"
     ]
    }
   ],
   "source": [
    "# KMP\n",
    "def find_kmp_pattern(T, P):\n",
    "    c=0\n",
    "    n, m = len(T), len(P)\n",
    "    if m == 0:\n",
    "        return 0\n",
    "    fail = compute_kmp_fail(P)\n",
    "    # print(fail)\n",
    "    j = 0\n",
    "    k = 0\n",
    "    while j < n:\n",
    "        if T[j] == P[k]:\n",
    "            if k == m-1:\n",
    "                c+=1\n",
    "\n",
    "                j+=1\n",
    "                continue\n",
    "                # return j-m+1\n",
    "            j += 1\n",
    "            k += 1\n",
    "        elif k > 0:\n",
    "            k = fail[k-1]\n",
    "        else:\n",
    "            j += 1\n",
    "    return c\n",
    "\n",
    "Sample = \"This is a test string, counting substring string and string a This counting\"\n",
    "Sample1 = \"srtrtrtsrt\"\n",
    "Sample3 = \"abababa\"\n",
    "Pattern1 = \"string\"\n",
    "Pattern2 = \"counting\"\n",
    "Pattern3 = \"rtr\"\n",
    "Pattern4 = \"aba\"\n",
    "\n",
    "print(f\"Occurence of ' {Pattern1} ' in text - ' {Sample} ' with kmp {find_kmp_pattern(Sample,Pattern1)}\")\n",
    "print(f\"Occurence of ' {Pattern2} ' in text - ' {Sample} ' with kmp {find_kmp_pattern(Sample,Pattern2)}\")\n",
    "print(f\"Occurence of ' {Pattern3} ' in text - ' {Sample1} '  with kmp {find_kmp_pattern(Sample1,Pattern3)}\")\n",
    "print(f\"Occurence of ' {Pattern4} ' in text - ' {Sample3} '  with kmp {find_kmp_pattern(Sample3,Pattern4)}\")"
   ]
  },
  {
   "cell_type": "markdown",
   "id": "49b6c1ba",
   "metadata": {},
   "source": [
    "2. Experimental Analysis of Pattern-Matching Algorithms"
   ]
  },
  {
   "cell_type": "code",
   "execution_count": 25,
   "id": "9d2a3ad3",
   "metadata": {},
   "outputs": [
    {
     "data": {
      "image/png": "[encoded data removed]",
      "text/plain": [
       "<Figure size 432x288 with 1 Axes>"
      ]
     },
     "metadata": {
      "needs_background": "light"
     },
     "output_type": "display_data"
    },
    {
     "data": {
      "image/png": "[encoded data removed]",
      "text/plain": [
       "<Figure size 432x288 with 1 Axes>"
      ]
     },
     "metadata": {
      "needs_background": "light"
     },
     "output_type": "display_data"
    }
   ],
   "source": [
    "def time_functions(dic, s, p):\n",
    "    \n",
    "    times = []\n",
    "    for fun in dic.values():\n",
    "        start = timeit.default_timer()\n",
    "        fun(s, p)\n",
    "        end = timeit.default_timer()\n",
    "        times.append([end-start, len(s), len(p)])\n",
    "    return times\n",
    "\n",
    "def compare_algorithms():\n",
    "    \n",
    "    dic = {\n",
    "        \"find_brute\" : find_brute,\n",
    "        \"find_boyer_more\" : find_boyer_more,\n",
    "        \"find_kmp\" : find_kmp_pattern\n",
    "    }\n",
    "\n",
    "        \n",
    "    total_times = []\n",
    "    for i in range(100, 100000, 10000):\n",
    "        s = \"a\" * i + \"b\"\n",
    "        p = \"a\" * 10 + \"b\"\n",
    "        total_times.append(time_functions(dic, s, p))\n",
    "\n",
    "    brutex = []\n",
    "    brutey = []\n",
    "    morex = []\n",
    "    morey = []\n",
    "    kmpx = []\n",
    "    kmpy = []\n",
    "    for l in total_times:\n",
    "        brutex.append(l[0][1])\n",
    "        brutey.append(l[0][0])\n",
    "        \n",
    "        morex.append(l[1][1])\n",
    "        morey.append(l[1][0])\n",
    "        \n",
    "        kmpx.append(l[2][1])\n",
    "        kmpy.append(l[2][0])\n",
    "    \n",
    "    plt.plot(brutex, brutey, label=\"brute\", color=\"blue\")\n",
    "    plt.plot(morex, morey, label=\"more\", color=\"green\")\n",
    "    plt.plot(kmpx, kmpy, label=\"kmp\", color=\"red\")\n",
    "    \n",
    "    plt.xlabel(\"x - size of string\")\n",
    "    plt.ylabel(\"y - time\")\n",
    "    \n",
    "    plt.legend()\n",
    "    \n",
    "    plt.show()\n",
    "    \n",
    "    total_times = []\n",
    "    for i in range(100, 5000, 1000):\n",
    "        s = \"a\" * 10000 + \"b\"\n",
    "        p = \"a\" * i + \"b\"\n",
    "        total_times.append(time_functions(dic, s, p))\n",
    "\n",
    "    brutex = []\n",
    "    brutey = []\n",
    "    morex = []\n",
    "    morey = []\n",
    "    kmpx = []\n",
    "    kmpy = []\n",
    "    for l in total_times:\n",
    "        brutex.append(l[0][2])\n",
    "        brutey.append(l[0][0])\n",
    "        \n",
    "        morex.append(l[1][2])\n",
    "        morey.append(l[1][0])\n",
    "        \n",
    "        kmpx.append(l[2][2])\n",
    "        kmpy.append(l[2][0])\n",
    "        \n",
    "    plt.plot(brutex, brutey, label=\"brute\", color=\"blue\")\n",
    "    plt.plot(morex, morey, label=\"more\", color=\"green\", linewidth=4)\n",
    "    plt.plot(kmpx, kmpy, label=\"kmp\", color=\"red\", linewidth=4, linestyle=(0, (5, 2, 1, 2)), dash_capstyle='round')\n",
    "    \n",
    "    plt.xlabel(\"x - size of string\")\n",
    "    plt.ylabel(\"y - time\")\n",
    "    \n",
    "    plt.legend()\n",
    "    \n",
    "    plt.show()\n",
    "    \n",
    "compare_algorithms()"
   ]
  },
  {
   "cell_type": "markdown",
   "id": "e8e3ee18",
   "metadata": {},
   "source": [
    "3: Matrix-chain Multiplication"
   ]
  },
  {
   "cell_type": "markdown",
   "id": "31c7d029",
   "metadata": {},
   "source": [
    "3.1 The Brute-Force"
   ]
  },
  {
   "cell_type": "code",
   "execution_count": 50,
   "id": "9a468bc8",
   "metadata": {},
   "outputs": [],
   "source": [
    "def brute_force(list_capacity,start,end):\n",
    "    array_size = [list_capacity[0][0],list_capacity[0][1]]\n",
    "    for item in range(1,len(list_capacity)):\n",
    "        array_size.append(list_capacity[item][1])\n",
    "    minimum_multiplication = math.inf\n",
    "    \n",
    "    if start == end:\n",
    "        return 0\n",
    "    else:\n",
    "        for par_position in range(start,end):\n",
    "            num_of_multiplication = brute_force(list_capacity,start,par_position) + brute_force(list_capacity,par_position+1,end) + (array_size[start-1]*array_size[par_position]*array_size[end])\n",
    "            \n",
    "            minimum_multiplication = num_of_multiplication if num_of_multiplication < minimum_multiplication else minimum_multiplication\n",
    "    return minimum_multiplication"
   ]
  },
  {
   "cell_type": "code",
   "execution_count": 51,
   "id": "e3d454eb",
   "metadata": {},
   "outputs": [
    {
     "name": "stdout",
     "output_type": "stream",
     "text": [
      "Minimum number of multiplications for the array of sizes  [(1, 2), (5, 6), (2, 1), (3, 4)] is 18\n",
      "Minimum number of multiplications for the array of sizes  [(20, 15), (15, 10), (30, 5), (25, 5), (5, 10), (15, 35)] is 7750\n",
      "Minimum number of multiplications for the array of sizes  [(5, 6), (7, 8), (9, 10)] is 640\n"
     ]
    }
   ],
   "source": [
    "size_lists = [[(1,2),(5,6),(2,1),(3,4)],[(20,15),(15,10),(30,5),(25,5),(5,10),(15,35)],[(5, 6),(7, 8),(9, 10)]]\n",
    "for list_capacity in size_lists:\n",
    "    print(\"Minimum number of multiplications for the array of sizes \",list_capacity, \"is\", brute_force(list_capacity,1,len(list_capacity)))"
   ]
  },
  {
   "cell_type": "markdown",
   "id": "7e6ed898",
   "metadata": {},
   "source": [
    "3.2: Bottom-up Dynamic Programming"
   ]
  },
  {
   "cell_type": "code",
   "execution_count": 62,
   "id": "20fbd844",
   "metadata": {},
   "outputs": [],
   "source": [
    "def bottom_up(array_size):\n",
    "    length = len(array_size)-1\n",
    "    a = [[0] * (length+1) for i in range(length+1)]\n",
    "    b = [[0] * (length) for i in range(length)]\n",
    "    \n",
    "    for item in range(1,length+1):\n",
    "        a[item][item] = 0\n",
    "    \n",
    "    for l in range(2,length+1):\n",
    "        for i in range(1,length-l+2):\n",
    "            j = i+l-1\n",
    "            a[i][j] = math.inf\n",
    "            for k in range(i,j):\n",
    "                flag = a[i][k]+a[k+1][j]+(array_size[i-1]*array_size[k]*array_size[j])\n",
    "                \n",
    "                if flag < a[i][j]:\n",
    "                    a[i][j] = flag\n",
    "                    b[i-1][j-1] = k\n",
    "                    \n",
    "    return a[1][length],parenthesis(b,1,length)\n",
    "\n",
    "def parenthesis(b, i, j):\n",
    "    path = \"\"\n",
    "    if i == j:\n",
    "        path += \"A\"+str(i)\n",
    "    else:\n",
    "        path += \"(\"\n",
    "        path += parenthesis(b, i, b[i-1][j-1])\n",
    "        path += parenthesis(b, b[i-1][j-1] + 1, j)\n",
    "        path += \")\"\n",
    "        \n",
    "    return path"
   ]
  },
  {
   "cell_type": "code",
   "execution_count": 63,
   "id": "2a0c1610",
   "metadata": {},
   "outputs": [
    {
     "name": "stdout",
     "output_type": "stream",
     "text": [
      "Minimum number of multiplications of the array  [1, 2, 3, 4, 5] is 38\n",
      "Parenthesis position of the minimum number of multiplications of the array (((A1A2)A3)A4)\n",
      "Minimum number of multiplications of the array  [10, 20, 30, 15, 5, 25, 35] is 12375\n",
      "Parenthesis position of the minimum number of multiplications of the array ((A1(A2(A3A4)))(A5A6))\n",
      "Minimum number of multiplications of the array  [4, 3, 2, 1] is 18\n",
      "Parenthesis position of the minimum number of multiplications of the array (A1(A2A3))\n"
     ]
    }
   ],
   "source": [
    "array_list = [[1,2,3,4,5],[10,20,30,15,5,25,35],[4, 3, 2, 1]]\n",
    "\n",
    "for array_size in array_list:\n",
    "    a,b = bottom_up(array_size)\n",
    "    print(\"Minimum number of multiplications of the array \",array_size, \"is\", a)\n",
    "    print(\"Parenthesis position of the minimum number of multiplications of the array\", b)"
   ]
  },
  {
   "cell_type": "markdown",
   "id": "511088c7",
   "metadata": {},
   "source": [
    "3.3: Dynamic Programming with Memoization"
   ]
  },
  {
   "cell_type": "code",
   "execution_count": 68,
   "id": "87e76b4d",
   "metadata": {},
   "outputs": [
    {
     "name": "stdout",
     "output_type": "stream",
     "text": [
      "Number of matrices: 5\n",
      "Dimensions of matrices:20\n",
      "Dimensions of matrices:10\n",
      "Dimensions of matrices:5\n",
      "Dimensions of matrices:4\n",
      "Dimensions of matrices:3\n",
      "Dimensions of matrices:30\n",
      "Number of matrices is: 5\n",
      "Dimension array is: \n",
      "[20, 10, 5, 4, 3, 30]\n",
      "Optimized parentheses for matrices: \n",
      "((D1(D2(D3D4)))D5)"
     ]
    }
   ],
   "source": [
    "import sys\n",
    "\n",
    "def parenthesize(s, start_index, end_index):\n",
    "    \n",
    "    if start_index == end_index:\n",
    "        print('D' + str(start_index), end='')\n",
    "        return\n",
    "\n",
    "    k = s[start_index][end_index]\n",
    "\n",
    "    print('(', end='')\n",
    "    parenthesize(s, start_index, k)\n",
    "    parenthesize(s, k + 1, end_index)\n",
    "    print(')', end='')\n",
    "\n",
    "    return\n",
    "\n",
    "def matrix_chain_memoization(P):\n",
    "    length = len(P)\n",
    "    m = [[-1]*length for _ in range(length)]\n",
    "    s = [[-1]*length for _ in range(length)]\n",
    " \n",
    "    memoize(P, 1, length-1, m, s)\n",
    " \n",
    "    return m, s\n",
    "\n",
    "def memoize(P, start_index, end_index, m, s):\n",
    "    if start_index >= end_index: #base case\n",
    "        return 0\n",
    "\n",
    "    result = sys.maxsize \n",
    "\n",
    "    for k in range(start_index, end_index):\n",
    "        if m[start_index][k] != -1:\n",
    "            res1 = m[start_index][k]\n",
    "        else:\n",
    "            res1 = memoize(P, start_index, k, m, s)\n",
    "            m[start_index][k] = res1\n",
    "\n",
    "        if m[k+1][end_index] != -1:\n",
    "            res2 = m[k+1][end_index]\n",
    "        else:\n",
    "            res2 = memoize(P, k + 1, end_index, m, s)\n",
    "            m[k+1][end_index] = res2\n",
    "\n",
    "        res3 = P[start_index-1]*P[k]*P[end_index]\n",
    "        \n",
    "        cost = res1+res2+res3\n",
    "\n",
    "        if result > cost:\n",
    "            result = cost\n",
    "            s[start_index][end_index] = k\n",
    " \n",
    "    m[start_index][end_index] = result\n",
    "    return result\n",
    " \n",
    "n = int(input('Number of matrices: '))\n",
    "\n",
    "P = []\n",
    "\n",
    "for i in range(n+1):\n",
    "    p = int(input('Dimensions of matrices:'))\n",
    "    P.append(p)\n",
    "\n",
    "print('Number of matrices is: ' + str(n))\n",
    "print('Dimension array is: ')\n",
    "print(P)\n",
    "\n",
    "result = matrix_chain_memoization(P)\n",
    "\n",
    "m = result[0]\n",
    "s = result[1]\n",
    "\n",
    "print('Optimized parentheses for matrices: ')\n",
    "parenthesize(s, 1, n)"
   ]
  },
  {
   "cell_type": "markdown",
   "id": "e7736efb",
   "metadata": {},
   "source": [
    "4: Longest Common Sub-sequence (LCS) Problem"
   ]
  },
  {
   "cell_type": "code",
   "execution_count": 32,
   "id": "007da1d5",
   "metadata": {},
   "outputs": [],
   "source": [
    "def longestCommonSubsequence(Sequence1, Sequnce2, len1, len2):\n",
    "    Table = [[0 for item in range(len2+1)] for item in range(len1+1)]\n",
    "  \n",
    "    for i in range(len1+1):\n",
    "        for j in range(len2+1):\n",
    "            if i == 0 or j == 0:\n",
    "                Table[i][j] = 0\n",
    "            elif Sequence1[i-1] == Sequence2[j-1]:\n",
    "                Table[i][j] = Table[i-1][j-1] + 1\n",
    "            else:\n",
    "                Table[i][j] = max(Table[i-1][j], Table[i][j-1])\n",
    "                \n",
    "    index = Table[len1][len2]\n",
    "  \n",
    "    longestCommonSubsequence = [\"\"] * (index+1)\n",
    "    longestCommonSubsequence[index] = \"\"\n",
    "  \n",
    "    pointer1 = len1\n",
    "    pointer2 = len2\n",
    "    while pointer1 > 0 and pointer2 > 0:\n",
    "  \n",
    "        if Sequence1[pointer1-1] == Sequence2[pointer2-1]:\n",
    "            longestCommonSubsequence[index-1] = Sequence1[pointer1-1]\n",
    "            pointer1-=1\n",
    "            pointer2-=1\n",
    "            index-=1\n",
    "  \n",
    "        elif Table[pointer1-1][pointer2] > Table[pointer1][pointer2-1]:\n",
    "            pointer1-=1\n",
    "        else:\n",
    "            pointer2-=1\n",
    "    \n",
    "    commonsequence =\"\"\n",
    "    for index in longestCommonSubsequence:\n",
    "        commonsequence = commonsequence + \"\"+index\n",
    "    return commonsequence, Table[len1][len2]\n",
    "  \n",
    "Sequence1 = \"MTQLQISLLLTATISLLHLVVATPYEAYPIGKQYPPVARVNESFTFQISNDTYKSSVDKTAQITYNCFDLPSWLSFDSSSRTFSGEPSSDLLSDANTTLYFNVILEGTDSADSTSLNNTYQFVVTNRPSISLSSDFNLLALLKNYGYTNGKNALKLDPNEVFNVTFDRSMFTNEESIVSYYGRSQLYNAPLPNWLFFDSGELKFTGTAPVINSAIAPETSYSFVIIATDIEGFSAVEVEFELVIGAHQLTTSIQNSLIINVTDTGNVSYDLPLNYVYLDDDPISSDKLGSINLLDAPDWVALDNATISGSVPDELLGKNSNPANFSVSIYDTYGDVIYFNFEVVSTTDLFAISSLPNINATRGEWFSYYFLPSQFTDYVNTNVSLEFTNSSQDHDWVKFQSSNLTLAGEVPKNFDKLSLGLKANQGSQSQELYFNIIGMDSKITHSNHSANATSTRSSHHSTSTSSYTSSTYTAKISSTSAAATSSAPAALPAANKTSSHNKKAVAIACGVAIPLGVILVALICFLIFWRRRRENPDDENLPHAISGPDLNNPANKPNQENATPLNNPFDDDASSYDDTSIARRLAALNTLKLDNHSATESDISSVDEKRDSLSGMNTYNDQFQSQSKEELLAKPPVQPPESPFFDPQNRSSSVYMDSEPAVNKSWRYTGNLSPVSDIVRDSYGSQKTVDTEKLFDLEAPEKEKRTSRDVTMSSLDPWNSNISPSPVRKSVTPSPYNVTKHRNRHLQNIQDSQSGKNGITPTTMSTSSSDDFVPVKDGENFCWVHSMEPDRRPSKKRLVDFSNKSNVNVGQVKDIHGRIPEML\"\n",
    "Sequence2 = \"MNRWVEKWLRVYLKCYINLILFYRNVYPPQSFDYTTYQSFNLPQFVPINRHPALIDYIEELILDVLSKLTHVYRFSICIINKKNDLCIEKYVLDFSELQHVDKDDQIITETEVFDEFRSSLNSLIMHLEKLPKVNDDTITFEAVINAIELELGHKLDRNRRVDSLEEKAEIERDSNWVKCQEDENLPDNNGFQPPKIKLTSLVGSDVGPLIIHQFSEKLISGDDKILNGVYSQYEEGESIFGSLF\"\n",
    "len1 = len(Sequence1)\n",
    "len2 = len(Sequence2)"
   ]
  },
  {
   "cell_type": "code",
   "execution_count": 33,
   "id": "15f48497",
   "metadata": {},
   "outputs": [
    {
     "name": "stdout",
     "output_type": "stream",
     "text": [
      "Length of sequence 1 823\n",
      "Length of sequence 2 245\n",
      "\n",
      "Matched Subsequence between Sequence1 and Sequence2 MVEKRVYKYNLLFYNVYPSFDTTYQNLPFVINPADIEELILDVLSKLTVFSIINDLIEYVLFSQHVKQTEVFDSLNSLIMHKLPKVIAVIAIEELGKLDRNDSAEIERDSNVQEDENLPDGFPKKTSLVSVPLIQSKISDDKNVSEGIGL\n",
      "Matched Subsequence length of Sequence1 and Sequence2 150\n"
     ]
    }
   ],
   "source": [
    "print(\"Length of sequence 1\", len(Sequence1))\n",
    "print(\"Length of sequence 2\", len(Sequence2))\n",
    "print()\n",
    "matchedString, matchedLength = longestCommonSubsequence(Sequence1,Sequence2,len(Sequence1),len(Sequence2))\n",
    "print(\"Matched Subsequence between Sequence1 and Sequence2\", matchedString)\n",
    "print(\"Matched Subsequence length of Sequence1 and Sequence2\", matchedLength)"
   ]
  },
  {
   "cell_type": "markdown",
   "id": "9d366628",
   "metadata": {},
   "source": [
    "This work here is solely mine and my homework programming pair's.\n",
    "Partner name: Braxton Reichard"
   ]
  },
  {
   "cell_type": "code",
   "execution_count": null,
   "id": "c7bba073",
   "metadata": {},
   "outputs": [],
   "source": []
  }
 ],
 "metadata": {
  "kernelspec": {
   "display_name": "Python 3",
   "language": "python",
   "name": "python3"
  },
  "language_info": {
   "codemirror_mode": {
    "name": "ipython",
    "version": 3
   },
   "file_extension": ".py",
   "mimetype": "text/x-python",
   "name": "python",
   "nbconvert_exporter": "python",
   "pygments_lexer": "ipython3",
   "version": "3.8.8"
  }
 },
 "nbformat": 4,
 "nbformat_minor": 5
}

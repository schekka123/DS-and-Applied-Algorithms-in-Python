{
 "cells": [
  {
   "cell_type": "markdown",
   "id": "5b243a0f",
   "metadata": {},
   "source": [
    "Problem 1: Given two sequences D1 and D2 of n elements, possibly containing duplicates,on which a total order relation is defined. Describe an efficient algorithm for determining if D1 and D2 contain the same set of elements. What is the running time of this method?\n",
    "\n",
    "Approach 1: Considered the intersection of the lists and then compared the length of the intersection list.\n",
    "\n",
    "Approach 2: Iterated through the elements of one set and compared elements with other set."
   ]
  },
  {
   "cell_type": "code",
   "execution_count": 101,
   "id": "b25cfbae",
   "metadata": {},
   "outputs": [],
   "source": [
    "import time\n",
    "def search(D1:list,D2:list):\n",
    "    D1 = set(D1)\n",
    "    intersect = D1.intersection(D2)\n",
    "    if len(intersect) == len(D1):\n",
    "        return True\n",
    "    else:\n",
    "        return False"
   ]
  },
  {
   "cell_type": "code",
   "execution_count": 102,
   "id": "55948d22",
   "metadata": {},
   "outputs": [
    {
     "name": "stdout",
     "output_type": "stream",
     "text": [
      "Given two sequences containing duplicates:  True\n",
      "Time required:  0.0007359981536865234\n",
      "Given two sequences containing duplicates:  False\n",
      "Time required:  0.00026702880859375\n"
     ]
    }
   ],
   "source": [
    "D1 = [10,20,10,10,30,30,44,55]\n",
    "D2 = [10,20,30,44,44,44,55,55]\n",
    "start_time = time.time()\n",
    "print(\"Given two sequences containing duplicates: \",search(D1,D2))\n",
    "print(\"Time required: \",time.time()-start_time)\n",
    "D1 = [11,12,14,11,20,30,40,50,90]\n",
    "D2 = [11,12,33,30,44,44,40,40,50,55,60,60,70]\n",
    "start_time = time.time()\n",
    "print(\"Given two sequences containing duplicates: \",search(D1,D2))\n",
    "print(\"Time required: \",time.time()-start_time)"
   ]
  },
  {
   "cell_type": "code",
   "execution_count": 103,
   "id": "0921e4d0",
   "metadata": {},
   "outputs": [],
   "source": [
    "#approach 2\n",
    "def search(D1:list,D2:list):\n",
    "    D1 = set(D1)\n",
    "    D2 = set(D2)\n",
    "    for item in D1:\n",
    "        if item not in D2:\n",
    "            return False\n",
    "        else:\n",
    "            continue\n",
    "    return True"
   ]
  },
  {
   "cell_type": "code",
   "execution_count": 104,
   "id": "ec019962",
   "metadata": {},
   "outputs": [
    {
     "name": "stdout",
     "output_type": "stream",
     "text": [
      "Given two sequences containing duplicates:  True\n",
      "Time for comparing:  0.00043272972106933594\n",
      "Given two sequences containing duplicates:  False\n",
      "Time for comparing:  0.00024080276489257812\n"
     ]
    }
   ],
   "source": [
    "D1 = [10,20,10,10,30,30,44,55]\n",
    "D2 = [10,20,30,44,44,44,55,55]\n",
    "start_time = time.time()\n",
    "print(\"Given two sequences containing duplicates: \",search(D1,D2))\n",
    "print(\"Time for comparing: \",time.time()-start_time)\n",
    "D1 = [11,12,14,11,20,30,40,50,90]\n",
    "D2 = [11,12,33,30,44,44,40,40,50,55,60,60,70]\n",
    "start_time = time.time()\n",
    "print(\"Given two sequences containing duplicates: \",search(D1,D2))\n",
    "print(\"Time for comparing: \",time.time()-start_time)"
   ]
  },
  {
   "cell_type": "markdown",
   "id": "55a22fcb",
   "metadata": {},
   "source": [
    "Problem 2: Given an array D of n integers in the range[0, n2−1], described a simple method for sorting D in O(n) time."
   ]
  },
  {
   "cell_type": "code",
   "execution_count": 105,
   "id": "474bf168",
   "metadata": {},
   "outputs": [
    {
     "name": "stdout",
     "output_type": "stream",
     "text": [
      "Array before sorting: [40, 12, 45, 32, 33, 1, 22]\n",
      "Array after sorting: [1, 12, 22, 32, 33, 40, 45]\n",
      "Time for sorting: 0.007550954818725586\n"
     ]
    }
   ],
   "source": [
    "def counting(arr, d):\n",
    "    \n",
    "    n = len(arr)\n",
    "    sorted_arr = [0]*n\n",
    "    \n",
    "    count = [0]*n\n",
    "    \n",
    "    for i in range(n):\n",
    "        unit = arr[i]//d\n",
    "        num = unit%n\n",
    "        count[num]+=1\n",
    "        \n",
    "    for i in range(1,n):\n",
    "        count[i]+=count[i-1]\n",
    "        \n",
    "    for i in range(n-1, -1, -1):\n",
    "        unit=arr[i]//d\n",
    "        num = unit%n\n",
    "        sorted_arr[count[num]-1] = arr[i]\n",
    "        count[num]-=1\n",
    "    \n",
    "    for i in range(n):\n",
    "        arr[i] = sorted_arr[i]\n",
    "        \n",
    "\n",
    "def radix(arr):\n",
    "    n = len(arr)\n",
    "    largest = max(arr)\n",
    "    \n",
    "    divisor = 1\n",
    "    while largest / divisor>0:\n",
    "        counting(arr, divisor)\n",
    "        divisor*=n\n",
    "    return arr\n",
    "    \n",
    "\n",
    "arr = [40, 12, 45, 32, 33, 1, 22]\n",
    "start_time = time.time()\n",
    "print(\"Array before sorting:\",arr)\n",
    "print(\"Array after sorting:\",radix(arr))\n",
    "print(\"Time for sorting:\",time.time()-start_time)"
   ]
  },
  {
   "cell_type": "markdown",
   "id": "560bd422",
   "metadata": {},
   "source": [
    "Problem 3: Given a sequence D of n elements, on which a total order relation is defined, described an efficient method for determining whether there are two equal elements in D and the running time of the method. Used merge sort and the time complexity is O(nlogn) --> nlogn to merge_sort and n to check for equality."
   ]
  },
  {
   "cell_type": "code",
   "execution_count": 106,
   "id": "4a54ac3f",
   "metadata": {},
   "outputs": [
    {
     "name": "stdout",
     "output_type": "stream",
     "text": [
      "[1, 9, 16, 27, 27, 56]\n",
      "There are 2 equal elements in the array\n",
      "[1, 9, 16, 27, 27, 56]\n",
      "Time taken:  0.00019693374633789062\n",
      "\n",
      "\n",
      "[1, 9, 16, 27, 56]\n",
      "[1, 9, 16, 27, 56]\n",
      "Time taken:  0.00014901161193847656\n"
     ]
    }
   ],
   "source": [
    "def merge_sort(arr):\n",
    "   \n",
    "    if len(arr)<=1:\n",
    "        return arr\n",
    "   \n",
    "    mid=len(arr)//2\n",
    "    arr_1 = arr[:mid]\n",
    "    arr_2 = arr[mid:]\n",
    "   \n",
    "    merge_sort(arr_1)\n",
    "    merge_sort(arr_2)\n",
    "   \n",
    "    i=j=k=0\n",
    "   \n",
    "    i = j = k = 0\n",
    "    while i<len(arr_1) and j<len(arr_2):\n",
    "        if arr_1[i]<=arr_2[j]:\n",
    "            arr[k] = arr_1[i]\n",
    "            i+=1\n",
    "        else:\n",
    "            arr[k] = arr_2[j]\n",
    "            j+=1\n",
    "        k+=1\n",
    "   \n",
    "    while i<len(arr_1):\n",
    "        arr[k]=arr_1[i]\n",
    "        i+=1\n",
    "        k+=1\n",
    "    while j<len(arr_2):\n",
    "        arr[k]=arr_2[j]\n",
    "        j+=1\n",
    "        k+=1\n",
    "       \n",
    "    for i in range(1,len(arr)):\n",
    "        if arr[i]==arr[i-1]:\n",
    "            print('There are 2 equal elements in the array')\n",
    "            break;\n",
    "        break;\n",
    "       \n",
    "    return arr\n",
    "\n",
    "arr = [1, 9, 16, 27, 27, 56]\n",
    "print(arr)\n",
    "start = time.time()\n",
    "print(merge_sort(arr))\n",
    "print(\"Time taken: \",time.time()-start)\n",
    "\n",
    "print('\\n')\n",
    "\n",
    "arr = [1, 9, 16, 27, 56]\n",
    "print(arr)\n",
    "start = time.time()\n",
    "print(merge_sort(arr))\n",
    "print(\"Time taken: \",time.time()-start)"
   ]
  },
  {
   "cell_type": "markdown",
   "id": "53f8bdd1",
   "metadata": {},
   "source": [
    "Problem 4: Implemented a bottom-up merge-sort for a collection of items by placing each item in its own queue, and then repeatedly merging pairs of queues until all items are sorted within a single queue."
   ]
  },
  {
   "cell_type": "code",
   "execution_count": 107,
   "id": "d1da2127",
   "metadata": {},
   "outputs": [
    {
     "name": "stdout",
     "output_type": "stream",
     "text": [
      "Before sorting: [102, 10, 2, 5, 25, 9, 7]\n",
      "After sorting: deque([deque([2, 5, 7, 9, 10, 25, 102])])\n"
     ]
    }
   ],
   "source": [
    "from collections import deque\n",
    "\n",
    "def merging(left,right):\n",
    "    deques = deque()\n",
    "    while len(left)>0 and len(right)>0:  \n",
    "        if left[0] < right[0]:\n",
    "            deques.append(left.popleft())    \n",
    "        else:\n",
    "            deques.append(right.popleft())\n",
    "    while left:\n",
    "        deques.append(left.popleft())\n",
    "    while right:\n",
    "        deques.append(right.popleft())\n",
    "    return deques\n",
    "\n",
    "\n",
    "def merge_sort(arr):\n",
    "    length = len(arr)\n",
    "    deques = deque()\n",
    "    for i in range(0,length):\n",
    "        deques.append(deque([arr[i]]))\n",
    "    while True:\n",
    "        result = [] \n",
    "        while len(deques) > 0:\n",
    "            if len(deques) == 1:\n",
    "                result.append(deques.pop())\n",
    "            else:\n",
    "                left = deques.popleft()\n",
    "                right = deques.popleft()\n",
    "                result.append(merging(left,right))\n",
    "        deques = deque(result)\n",
    "        if len(result[0]) == len(arr):\n",
    "            break\n",
    "    return deques\n",
    "\n",
    "\n",
    "arr = [102, 10, 2, 5, 25, 9, 7]\n",
    "print(\"Before sorting:\", arr)\n",
    "print(\"After sorting:\",merge_sort(arr))"
   ]
  },
  {
   "cell_type": "markdown",
   "id": "4a02baf7",
   "metadata": {},
   "source": [
    "Problem 5: Implemented the heap-sort algorithm given in algorithm 1. The max_heapify and build_max_heap procedures are described in algorithm 2 and algorithm 3, respectively."
   ]
  },
  {
   "cell_type": "code",
   "execution_count": 108,
   "id": "e360fc4b",
   "metadata": {},
   "outputs": [
    {
     "name": "stdout",
     "output_type": "stream",
     "text": [
      "[5, 6, 7, 8, 9, 10, 11, 12, 13]\n"
     ]
    }
   ],
   "source": [
    "def build_heap(arr, n):\n",
    "    for i in range(n//2 - 1, -1, -1):\n",
    "        heapify(arr, n, i)\n",
    "\n",
    "def heapify(arr, n, i):\n",
    "    left = 2*i+1\n",
    "    right = 2*i+2\n",
    "    \n",
    "    if left<n and arr[left]>arr[i]:\n",
    "        largest=left\n",
    "    else:\n",
    "        largest=i\n",
    "    \n",
    "    if right<n and arr[right]>arr[largest]:\n",
    "        largest = right\n",
    "    \n",
    "    if largest != i:\n",
    "        arr[i], arr[largest] = arr[largest], arr[i]\n",
    "        heapify(arr, n, largest)\n",
    "\n",
    "    \n",
    "def heap_sort(arr):\n",
    "    n = len(arr)\n",
    "    build_heap(arr, n)\n",
    "    \n",
    "    for i in range(n-1,0,-1):\n",
    "        arr[0], arr[i] = arr[i], arr[0]\n",
    "        heapify(arr, i, 0)\n",
    "                \n",
    "\n",
    "arr = [12, 6, 9, 5, 11, 7, 13, 10, 8]\n",
    "heap_sort(arr)\n",
    "print(arr)"
   ]
  },
  {
   "cell_type": "markdown",
   "id": "f1d7e263",
   "metadata": {},
   "source": [
    "Problem 6: Implemented the counting-sort algorithm given in algorithm 4."
   ]
  },
  {
   "cell_type": "code",
   "execution_count": 109,
   "id": "c95f81b7",
   "metadata": {},
   "outputs": [
    {
     "name": "stdout",
     "output_type": "stream",
     "text": [
      "[1, 2, 2, 3, 3, 4, 5, 6]\n"
     ]
    }
   ],
   "source": [
    "def counting(arr):\n",
    "    \n",
    "    n = len(arr)\n",
    "    sorted_arr = [0]*n\n",
    "    count = [0]*n\n",
    "    \n",
    "    for i in range(n):\n",
    "        count[arr[i]]+=1\n",
    "        \n",
    "    for i in range(1,n):\n",
    "        count[i]+=count[i-1]\n",
    "        \n",
    "    for i in range(n-1, -1, -1):\n",
    "        sorted_arr[count[arr[i]]-1] = arr[i]\n",
    "        count[arr[i]]-=1\n",
    "    \n",
    "    for i in range(n):\n",
    "        arr[i] = sorted_arr[i]\n",
    "    return arr\n",
    "    \n",
    "\n",
    "arr=[3,3,1,2,5,2,4,6]\n",
    "print(counting(arr))"
   ]
  },
  {
   "cell_type": "markdown",
   "id": "24b250a8",
   "metadata": {},
   "source": [
    "Problem 7: Implemented the bucket sort algorithm given in algorithm 5. Used two methods insertion and bucket for sorting."
   ]
  },
  {
   "cell_type": "code",
   "execution_count": 110,
   "id": "6e626e07",
   "metadata": {},
   "outputs": [
    {
     "name": "stdout",
     "output_type": "stream",
     "text": [
      "[0.1234, 0.21, 0.3123, 0.3434, 0.565, 0.656, 0.665, 0.844, 0.897, 0.932]\n"
     ]
    }
   ],
   "source": [
    "def insertion(arr):\n",
    "    for i in range(1, len(arr)):\n",
    "        val = arr[i]\n",
    "        while val<arr[i-1] and i>0:\n",
    "            arr[i], arr[i-1] = arr[i-1], arr[i]\n",
    "            i-=1\n",
    "    return arr\n",
    "\n",
    "def bucket(arr, b):\n",
    "    \n",
    "    temp=[]\n",
    "    for i in range(b):\n",
    "        temp.append([])\n",
    "    \n",
    "    for i in range(len(arr)):\n",
    "        b_num = int(arr[i]*b)\n",
    "        temp[b_num].append(arr[i])\n",
    "    \n",
    "    for i in range(b):\n",
    "        temp[i] = insertion(temp[i])\n",
    "    \n",
    "    k=0\n",
    "    for i in range(b):\n",
    "        for j in range(len(temp[i])):\n",
    "            arr[k] = temp[i][j]\n",
    "            k+=1\n",
    "    return arr\n",
    "    \n",
    "arr = [0.897, 0.565, 0.656, 0.1234, 0.665, 0.3434, 0.3123, 0.844, 0.932, 0.210]\n",
    "print(bucket(arr, 10))\n"
   ]
  },
  {
   "cell_type": "code",
   "execution_count": null,
   "id": "efc033f1",
   "metadata": {},
   "outputs": [],
   "source": [
    "\n"
   ]
  }
 ],
 "metadata": {
  "kernelspec": {
   "display_name": "Python 3",
   "language": "python",
   "name": "python3"
  },
  "language_info": {
   "codemirror_mode": {
    "name": "ipython",
    "version": 3
   },
   "file_extension": ".py",
   "mimetype": "text/x-python",
   "name": "python",
   "nbconvert_exporter": "python",
   "pygments_lexer": "ipython3",
   "version": "3.8.8"
  }
 },
 "nbformat": 4,
 "nbformat_minor": 5
}
